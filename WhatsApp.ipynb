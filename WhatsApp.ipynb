{
 "cells": [
  {
   "cell_type": "code",
   "execution_count": 3,
   "metadata": {},
   "outputs": [
    {
     "name": "stdout",
     "output_type": "stream",
     "text": [
      "Messages sent!\n"
     ]
    }
   ],
   "source": [
    "import streamlit as st\n",
    "import pywhatkit as kit\n",
    "import time\n",
    "import pyautogui\n",
    "from datetime import datetime\n",
    "\n",
    "st.set_page_config(page_title=\"WhatsApp\", page_icon=\"💬\")\n",
    "# Streamlit app\n",
    "st.title(\"WhatsApp Message Sender\")\n",
    "\n",
    "# Input phone numbers (take input as a comma-separated string)\n",
    "numbers_input = st.text_input(\"Enter phone numbers (comma-separated):\", \"01000139417\")\n",
    "\n",
    "# Input message\n",
    "message = st.text_area(\"Enter your message:\", \"Hello! This is an automated message.\")\n",
    "\n",
    "# Input scheduled date and time (optional)\n",
    "scheduled_date = st.date_input(\"Select the date to schedule the message (optional)\", value=None)\n",
    "scheduled_time = st.time_input(\"Select the time to schedule the message (optional)\", value=None)\n",
    "\n",
    "# When button is clicked\n",
    "if st.button(\"Send Message\"):\n",
    "    # Convert the input string into a list of phone numbers and add +20\n",
    "    phone_numbers = [f\"+20{num.strip()}\" if not num.startswith(\"+\") else num.strip() for num in numbers_input.split(\",\")]\n",
    "\n",
    "    # Send message to each number in the list\n",
    "    for i, number in enumerate(phone_numbers):\n",
    "        try:\n",
    "            # Check if time and date are provided\n",
    "            if scheduled_date and scheduled_time:\n",
    "                # Schedule the message\n",
    "                hour = scheduled_time.hour\n",
    "                minute = scheduled_time.minute + i  # Add a minute delay for each recipient\n",
    "                kit.sendwhatmsg(number, message, hour, minute, wait_time=4, tab_close=False)  # Keep the tab open\n",
    "                st.write(f\"Message scheduled to {number} at {hour}:{minute}\")\n",
    "            else:\n",
    "                # Send message instantly without wait time\n",
    "                kit.sendwhatmsg_instantly(number, message, wait_time=10, tab_close=False)  # Keep tab open\n",
    "                st.write(f\"Message sent to {number}\")\n",
    "\n",
    "            time.sleep(5)  # Short delay between sending messages to avoid issues\n",
    "\n",
    "            # Close the tab after sending the message using pyautogui\n",
    "            pyautogui.hotkey('ctrl', 'w')  # Simulate 'Ctrl + W' to close the tab\n",
    "            time.sleep(2)  # Short delay to ensure the tab is closed properly\n",
    "\n",
    "        except Exception as e:\n",
    "            st.error(f\"Failed to send message to {number}: {e}\")\n",
    "\n",
    "    st.success(\"Messages processed!\")\n"
   ]
  },
  {
   "cell_type": "code",
   "execution_count": 8,
   "metadata": {},
   "outputs": [
    {
     "data": {
      "text/plain": [
       "['__VERSION__',\n",
       " '__builtins__',\n",
       " '__cached__',\n",
       " '__doc__',\n",
       " '__file__',\n",
       " '__loader__',\n",
       " '__name__',\n",
       " '__package__',\n",
       " '__path__',\n",
       " '__spec__',\n",
       " 'ascii_art',\n",
       " 'cancel_shutdown',\n",
       " 'core',\n",
       " 'handwriting',\n",
       " 'image_to_ascii_art',\n",
       " 'info',\n",
       " 'mail',\n",
       " 'misc',\n",
       " 'open_web',\n",
       " 'playonyt',\n",
       " 'remotekit',\n",
       " 'sc',\n",
       " 'search',\n",
       " 'send_hmail',\n",
       " 'send_mail',\n",
       " 'sendwhatmsg',\n",
       " 'sendwhatmsg_instantly',\n",
       " 'sendwhatmsg_to_group',\n",
       " 'sendwhatmsg_to_group_instantly',\n",
       " 'sendwhats_image',\n",
       " 'show_history',\n",
       " 'shutdown',\n",
       " 'start_server',\n",
       " 'system',\n",
       " 'take_screenshot',\n",
       " 'text_to_handwriting',\n",
       " 'web_screenshot',\n",
       " 'whats']"
      ]
     },
     "execution_count": 8,
     "metadata": {},
     "output_type": "execute_result"
    }
   ],
   "source": [
    "import pywhatkit as kit\n",
    "dir(kit)"
   ]
  },
  {
   "cell_type": "code",
   "execution_count": 6,
   "metadata": {},
   "outputs": [
    {
     "name": "stdout",
     "output_type": "stream",
     "text": [
      "Name: PyAutoGUI\n",
      "Version: 0.9.54\n",
      "Summary: PyAutoGUI lets Python control the mouse and keyboard, and other GUI automation tasks. For Windows, macOS, and Linux, on Python 3 and 2.\n",
      "Home-page: https://github.com/asweigart/pyautogui\n",
      "Author: Al Sweigart\n",
      "Author-email: al@inventwithpython.com\n",
      "License: BSD\n",
      "Location: C:\\Users\\yaa20\\anaconda3\\Lib\\site-packages\n",
      "Requires: mouseinfo, pygetwindow, pymsgbox, pyscreeze, pytweening\n",
      "Required-by: pywhatkit\n"
     ]
    }
   ],
   "source": [
    "!pip show pyautogui"
   ]
  }
 ],
 "metadata": {
  "kernelspec": {
   "display_name": "base",
   "language": "python",
   "name": "python3"
  },
  "language_info": {
   "codemirror_mode": {
    "name": "ipython",
    "version": 3
   },
   "file_extension": ".py",
   "mimetype": "text/x-python",
   "name": "python",
   "nbconvert_exporter": "python",
   "pygments_lexer": "ipython3",
   "version": "3.11.3"
  }
 },
 "nbformat": 4,
 "nbformat_minor": 2
}
