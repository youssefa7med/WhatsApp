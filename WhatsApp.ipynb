{
 "cells": [
  {
   "cell_type": "code",
   "execution_count": 3,
   "metadata": {},
   "outputs": [
    {
     "name": "stdout",
     "output_type": "stream",
     "text": [
      "Messages sent!\n"
     ]
    }
   ],
   "source": [
    "import streamlit as st\n",
    "import pywhatkit as kit\n",
    "import time\n",
    "import pyautogui\n",
    "from datetime import datetime\n",
    "\n",
    "st.set_page_config(page_title=\"WhatsApp\", page_icon=\"💬\")\n",
    "# Streamlit app\n",
    "st.title(\"WhatsApp Message Sender\")\n",
    "\n",
    "# Input phone numbers (take input as a comma-separated string)\n",
    "numbers_input = st.text_input(\"Enter phone numbers (comma-separated):\", \"01000139417\")\n",
    "\n",
    "# Input message\n",
    "message = st.text_area(\"Enter your message:\", \"Hello! This is an automated message.\")\n",
    "\n",
    "# Input scheduled date and time (optional)\n",
    "scheduled_date = st.date_input(\"Select the date to schedule the message (optional)\", value=None)\n",
    "scheduled_time = st.time_input(\"Select the time to schedule the message (optional)\", value=None)\n",
    "\n",
    "# When button is clicked\n",
    "if st.button(\"Send Message\"):\n",
    "    # Convert the input string into a list of phone numbers and add +20\n",
    "    phone_numbers = [f\"+20{num.strip()}\" if not num.startswith(\"+\") else num.strip() for num in numbers_input.split(\",\")]\n",
    "\n",
    "    # Send message to each number in the list\n",
    "    for i, number in enumerate(phone_numbers):\n",
    "        try:\n",
    "            # Check if time and date are provided\n",
    "            if scheduled_date and scheduled_time:\n",
    "                # Schedule the message\n",
    "                hour = scheduled_time.hour\n",
    "                minute = scheduled_time.minute + i  # Add a minute delay for each recipient\n",
    "                kit.sendwhatmsg(number, message, hour, minute, wait_time=4, tab_close=False)  # Keep the tab open\n",
    "                st.write(f\"Message scheduled to {number} at {hour}:{minute}\")\n",
    "            else:\n",
    "                # Send message instantly without wait time\n",
    "                kit.sendwhatmsg_instantly(number, message, wait_time=10, tab_close=False)  # Keep tab open\n",
    "                st.write(f\"Message sent to {number}\")\n",
    "\n",
    "            time.sleep(5)  # Short delay between sending messages to avoid issues\n",
    "\n",
    "            # Close the tab after sending the message using pyautogui\n",
    "            pyautogui.hotkey('ctrl', 'w')  # Simulate 'Ctrl + W' to close the tab\n",
    "            time.sleep(2)  # Short delay to ensure the tab is closed properly\n",
    "\n",
    "        except Exception as e:\n",
    "            st.error(f\"Failed to send message to {number}: {e}\")\n",
    "\n",
    "    st.success(\"Messages processed!\")\n"
   ]
  },
  {
   "cell_type": "code",
   "execution_count": 4,
   "metadata": {},
   "outputs": [
    {
     "name": "stderr",
     "output_type": "stream",
     "text": [
      "WARNING: Package(s) not found: datetime\n"
     ]
    }
   ],
   "source": [
    "!pip show datetime"
   ]
  }
 ],
 "metadata": {
  "kernelspec": {
   "display_name": "base",
   "language": "python",
   "name": "python3"
  },
  "language_info": {
   "codemirror_mode": {
    "name": "ipython",
    "version": 3
   },
   "file_extension": ".py",
   "mimetype": "text/x-python",
   "name": "python",
   "nbconvert_exporter": "python",
   "pygments_lexer": "ipython3",
   "version": "3.11.3"
  }
 },
 "nbformat": 4,
 "nbformat_minor": 2
}
